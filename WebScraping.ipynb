{
 "cells": [
  {
   "cell_type": "code",
   "execution_count": null,
   "metadata": {},
   "outputs": [],
   "source": [
    "# Credit- Jim Shaped coding check out his youtube channel.\n",
    "# web Scraping using BeautifulSoup\n",
    "# uncomment following command for deep analysis of website \n",
    "# used data from TimesJob.com checkout the website for overview of the data.\n",
    "\n",
    "from bs4 import BeautifulSoup\n",
    "import requests\n",
    "import time\n",
    "\n",
    "print('Put some skill that you are not familiar with')\n",
    "unfamiliar_skill_ = list(map(str, input('>').split()))\n",
    "unfamiliar_skill = ' '.join(map(str,unfamiliar_skill_))\n",
    "print(f'Filtering out {unfamiliar_skill}')\n",
    "\n",
    "def find_jobs():\n",
    "    html_text = requests.get('https://www.timesjobs.com/candidate/job-search.html?searchType=personalizedSearch&from=submit&txtKeywords=python&txtLocation=').text\n",
    "#print(html_text)\n",
    "    soup = BeautifulSoup(html_text, 'lxml')\n",
    "    jobs = soup.find_all('li', class_ = 'clearfix job-bx wht-shd-bx')\n",
    "#job = soup.find('li', class_='clearfix job-bx wht-shd-bx')\n",
    "    for index, job in enumerate(jobs):\n",
    "        published_date = job.find('span', class_='sim-posted').span.text\n",
    "        if 'few' in published_date:\n",
    "            company_name = job.find('h3', class_='joblist-comp-name').text.replace(' ','')\n",
    "            skills = job.find('span', class_='srp-skills').text.replace(' ', '')\n",
    "            more_info = job.header.h2.a['href']\n",
    "            if unfamiliar_skill not in skills:\n",
    "            #print(published_date)\n",
    "                with open(f'posts/{index}.txt', 'w') as f:\n",
    "                    f.write(f'Company Name: {company_name.strip()} \\n')\n",
    "                    f.write(f'Required Skills; {skills.strip()}\\n')\n",
    "                    f.write(f'More Info: {more_info}')\n",
    "                print(f'File saved: {index}')\n",
    "\n",
    "if __name__ == '__main__':\n",
    "    while True:\n",
    "        find_jobs()\n",
    "        time_wait = 10\n",
    "        print(f'Waiting {time_wait} minutes')\n",
    "        time.sleep(time_wait * 60)\n",
    "\n",
    "'''#print(company_name)'''"
   ]
  }
 ],
 "metadata": {
  "kernelspec": {
   "display_name": "Python 3",
   "language": "python",
   "name": "python3"
  },
  "language_info": {
   "codemirror_mode": {
    "name": "ipython",
    "version": 3
   },
   "file_extension": ".py",
   "mimetype": "text/x-python",
   "name": "python",
   "nbconvert_exporter": "python",
   "pygments_lexer": "ipython3",
   "version": "3.7.4"
  }
 },
 "nbformat": 4,
 "nbformat_minor": 2
}
